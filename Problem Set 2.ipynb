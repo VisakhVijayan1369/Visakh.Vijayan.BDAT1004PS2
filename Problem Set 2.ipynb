{
 "cells": [
  {
   "cell_type": "markdown",
   "id": "ec18b41b",
   "metadata": {},
   "source": [
    "<h3>Question 1</h3>"
   ]
  },
  {
   "cell_type": "markdown",
   "id": "1fa891f5",
   "metadata": {},
   "source": [
    "<p>Consider the following Python module:<br>\n",
    "a = 0<br>\n",
    "def b():<br>\n",
    " global a<br>\n",
    " a = c(a)<br>\n",
    "def c(a):<br>\n",
    " return a + 2<br>\n",
    "After importing the module into the interpreter, you execute:<br>\n",
    ">>> b()<br>\n",
    ">>> b()<br>\n",
    ">>> b()<br>\n",
    ">>> a<br>\n",
    "?<br><br>\n",
    "What value is displayed when the last expression (a) is evaluated?<br> Explain your\n",
    "answer by indicating what happens in every executed statement</p>"
   ]
  },
  {
   "cell_type": "code",
   "execution_count": 1,
   "id": "c75c0909",
   "metadata": {},
   "outputs": [],
   "source": [
    "a=0\n",
    "def b():\n",
    " global a\n",
    " a = c(a)\n",
    "def c(a):\n",
    " return a + 2\n",
    "#Assigning variable a with value 0"
   ]
  },
  {
   "cell_type": "code",
   "execution_count": 2,
   "id": "8cd16d68",
   "metadata": {},
   "outputs": [],
   "source": [
    "b()\n",
    "# global a ------creating a global variable a\n",
    "#a = c(a) --------global variable a= c(0)= 0+2=2\n",
    "#We have a variable a=2 outside our function"
   ]
  },
  {
   "cell_type": "code",
   "execution_count": null,
   "id": "fb60dc1f",
   "metadata": {
    "collapsed": true
   },
   "outputs": [],
   "source": []
  },
  {
   "cell_type": "code",
   "execution_count": 3,
   "id": "acb54932",
   "metadata": {},
   "outputs": [],
   "source": [
    "b()\n",
    "# global a ------creating a global variable a\n",
    "#a = c(a) --------global variable a= c(2)= 2+2=4\n",
    "#We have a variable a=4 outside our function"
   ]
  },
  {
   "cell_type": "code",
   "execution_count": 4,
   "id": "d41b96ff",
   "metadata": {},
   "outputs": [],
   "source": [
    "b()\n",
    "# global a ------creating a global variable a\n",
    "#a = c(a) --------global variable a= c(4)= 4+2=6\n",
    "#We have a variable a=6 outside our function"
   ]
  },
  {
   "cell_type": "code",
   "execution_count": 5,
   "id": "0268d739",
   "metadata": {},
   "outputs": [
    {
     "data": {
      "text/plain": [
       "6"
      ]
     },
     "execution_count": 5,
     "metadata": {},
     "output_type": "execute_result"
    }
   ],
   "source": [
    "a"
   ]
  },
  {
   "cell_type": "markdown",
   "id": "fb158ef9",
   "metadata": {},
   "source": [
    "<h3>Question 2</h3>\n",
    "<p>Function fileLength(), given to you, takes the name of a file as input and returns\n",
    "the length of the file:<br>\n",
    ">>> fileLength('midterm.py')<br>\n",
    "284<br>\n",
    ">>> fileLength('idterm.py')<br>\n",
    "Traceback (most recent call last):<br>\n",
    "File \"<pyshell#34>\", line 1, in <module><br>\n",
    " fileLength('idterm.py')<br>\n",
    "File \"/Users/me/midterm.py\", line 3, in fileLength<br>\n",
    " infile = open(filename)<br>\n",
    "FileNotFoundError: [Errno 2] No such file or directory:<br>\n",
    "'idterm.py'<br>\n",
    "As shown above, if the file cannot be found by the interpreter or if it cannot be read\n",
    "as a text file, an exception will be raised. Modify function fileLength() so that a\n",
    "friendly message is printed instead:<br>\n",
    ">>> fileLength('midterm.py')<br>\n",
    "358<br>\n",
    ">>> fileLength('idterm.py')<br>\n",
    "    File idterm.py not found.</p><br>\n"
   ]
  },
  {
   "cell_type": "code",
   "execution_count": 43,
   "id": "72b786fe",
   "metadata": {},
   "outputs": [],
   "source": [
    "def file_length(file_name):\n",
    "    try: \n",
    "        file = open(file_name)\n",
    "        contents = file.read()\n",
    "        file.close()\n",
    "        print(len(contents))\n",
    "    except:\n",
    "        print('File {} not found.'.format(file_name))    "
   ]
  },
  {
   "cell_type": "code",
   "execution_count": 44,
   "id": "e494e2fb",
   "metadata": {},
   "outputs": [
    {
     "name": "stdout",
     "output_type": "stream",
     "text": [
      "477\n"
     ]
    }
   ],
   "source": [
    "#file_length('currencies.txt')"
   ]
  },
  {
   "cell_type": "code",
   "execution_count": 22,
   "id": "7b7f3f7b",
   "metadata": {},
   "outputs": [
    {
     "name": "stdout",
     "output_type": "stream",
     "text": [
      "File midterm.py not found.\n"
     ]
    }
   ],
   "source": [
    "fileLength('midterm.py')"
   ]
  },
  {
   "cell_type": "code",
   "execution_count": 23,
   "id": "83191b41",
   "metadata": {},
   "outputs": [
    {
     "name": "stdout",
     "output_type": "stream",
     "text": [
      "File idterm.py not found.\n"
     ]
    }
   ],
   "source": [
    "fileLength('idterm.py')"
   ]
  },
  {
   "cell_type": "markdown",
   "id": "c8a79b15",
   "metadata": {},
   "source": [
    "<h3>Question 3</h3>\n",
    "<p>Write a class named Marsupial that can be used as shown below:<br>\n",
    ">>> m = Marsupial()<br>\n",
    ">>> m.put_in_pouch('doll')<br>\n",
    ">>> m.put_in_pouch('firetruck')<br>\n",
    ">>> m.put_in_pouch('kitten')<br>\n",
    ">>> m.pouch_contents()<br>\n",
    "['doll', 'firetruck', 'kitten']<br>\n",
    "\n",
    "Now write a class named Kangaroo as a subclass of Marsupial that inherits all the\n",
    "attributes of Marsupial and also:<br>\n",
    "a. extends the Marsupial __init__ constructor to take, as input, the\n",
    "coordinates x and y of the Kangaroo object,<br>\n",
    "b. supports method jump that takes number values dx and dy as input and\n",
    "moves the kangaroo by dx units along the x-axis and by dy units along the yaxis, and<br>\n",
    "c. overloads the __str__ operator so it behaves as shown below.<br>\n",
    "k = Kangaroo(0,0)<br>\n",
    "print(k)<br>\n",
    "I am a Kangaroo located at coordinates (0,0)<br>\n",
    "k.put_in_pouch('doll')<br>\n",
    "k.put_in_pouch('firetruck')<br>\n",
    "k.put_in_pouch('kitten')<br>\n",
    "k.pouch_contents()<br>\n",
    "['doll', 'firetruck', 'kitten']<br>\n",
    "k.jump(1,0)<br>\n",
    "k.jump(1,0)<br>\n",
    "k.jump(1,0)<br>\n",
    "print(k)<br>\n",
    "I am a Kangaroo located at coordinates (3,0)</p>"
   ]
  },
  {
   "cell_type": "code",
   "execution_count": 125,
   "id": "6e7e5149",
   "metadata": {},
   "outputs": [],
   "source": [
    "#Reference- https://www.w3schools.com/python/python_classes.asp\n",
    "class Marsupial:\n",
    "    \n",
    "    def __init__(self):\n",
    "        self.pouch_content = []\n",
    "    def pouch_contents(self):\n",
    "        print(self.pouch_content)\n",
    "    def put_in_pouch(self,word):\n",
    "        self.pouch_content.append(word)"
   ]
  },
  {
   "cell_type": "code",
   "execution_count": 128,
   "id": "cd1ceb64",
   "metadata": {},
   "outputs": [
    {
     "name": "stdout",
     "output_type": "stream",
     "text": [
      "['doll', 'firetruck', 'kitten']\n"
     ]
    }
   ],
   "source": [
    "m = Marsupial()\n",
    "m.put_in_pouch('doll')\n",
    "m.put_in_pouch('firetruck')\n",
    "m.put_in_pouch('kitten')\n",
    "m.pouch_contents()"
   ]
  },
  {
   "cell_type": "code",
   "execution_count": 136,
   "id": "2d0ddbca",
   "metadata": {},
   "outputs": [],
   "source": [
    "#Reference-https://www.w3schools.com/python/python_classes.asp\n",
    "class Kangaroo(Marsupial):\n",
    "    \n",
    "    def __init__(self,x,y):\n",
    "        Marsupial.__init__(self)\n",
    "        self.x = x\n",
    "        self.y = y\n",
    "        \n",
    "    def jump(self,dx,dy):\n",
    "        self.x += dx\n",
    "        self.y += dy\n",
    "        \n",
    "    def __str__(self):\n",
    "        return \"I am a kangaroo located at coordinates \"+str(self.x)+' '+ str(self.y)\n",
    "    \n",
    "(\"I am a kangaroo located at coordinates {} {}\",format()"
   ]
  },
  {
   "cell_type": "code",
   "execution_count": 137,
   "id": "bde81ce6",
   "metadata": {},
   "outputs": [
    {
     "name": "stdout",
     "output_type": "stream",
     "text": [
      "I am a kangaroo located at coordinates 0 0)\n"
     ]
    }
   ],
   "source": [
    "k = Kangaroo(0,0)\n",
    "print(k)"
   ]
  },
  {
   "cell_type": "code",
   "execution_count": 138,
   "id": "976adaf6",
   "metadata": {},
   "outputs": [
    {
     "name": "stdout",
     "output_type": "stream",
     "text": [
      "['doll', 'firetruck', 'kitten']\n"
     ]
    }
   ],
   "source": [
    "k.put_in_pouch('doll')\n",
    "k.put_in_pouch('firetruck')\n",
    "k.put_in_pouch('kitten')\n",
    "k.pouch_contents()"
   ]
  },
  {
   "cell_type": "code",
   "execution_count": 139,
   "id": "308d38d7",
   "metadata": {},
   "outputs": [
    {
     "name": "stdout",
     "output_type": "stream",
     "text": [
      "I am a kangaroo located at coordinates 3 0)\n"
     ]
    }
   ],
   "source": [
    "k.jump(1,0)\n",
    "k.jump(1,0)\n",
    "k.jump(1,0)\n",
    "print(k)"
   ]
  },
  {
   "cell_type": "markdown",
   "id": "54520c41",
   "metadata": {},
   "source": [
    "<h3>Question 4</h3>\n",
    "<p>Write function collatz() that takes a positive integer x as input and prints the\n",
    "Collatz sequence starting at x. A Collatz sequence is obtained by repeatedly applying\n",
    "this rule to the previous number x in the sequence:<br><br>\n",
    "x = {\n",
    "𝑥/2 𝑖𝑓 𝑥 𝑖𝑠 𝑒𝑣𝑒𝑛\n",
    "<br>    3𝑥 + 1 𝑖𝑓 𝑥 𝑖𝑠 𝑜𝑑𝑑<br><br>\n",
    "Your function should stop when the sequence gets to number 1. Your\n",
    "implementation must be recursive, without any loops.<p>"
   ]
  },
  {
   "cell_type": "code",
   "execution_count": 150,
   "id": "5880b781",
   "metadata": {},
   "outputs": [],
   "source": [
    "def collatz(x):\n",
    "    \n",
    "    print(int(x))\n",
    "    \n",
    "    if x<0:\n",
    "        print(\"Please enter a postive integer\")\n",
    "        \n",
    "    elif x==1:\n",
    "        return\n",
    "    \n",
    "    elif x%2 !=0:\n",
    "        x = (3*x)+1\n",
    "        collatz(x)\n",
    "    else:\n",
    "        x/=2\n",
    "        collatz(x)"
   ]
  },
  {
   "cell_type": "code",
   "execution_count": 151,
   "id": "2f87bcab",
   "metadata": {},
   "outputs": [
    {
     "name": "stdout",
     "output_type": "stream",
     "text": [
      "10\n",
      "5\n",
      "16\n",
      "8\n",
      "4\n",
      "2\n",
      "1\n"
     ]
    }
   ],
   "source": [
    "collatz(10)"
   ]
  },
  {
   "cell_type": "markdown",
   "id": "9e2108a3",
   "metadata": {},
   "source": [
    "<h3>Question 5</h3>\n",
    "<p>Write a recursive method binary() that takes a non-negative\n",
    "integer n and prints the binary representation of integer n.<br>\n",
    ">>> binary(0)<br>\n",
    "0<br>\n",
    ">>> binary(1)<br>\n",
    "1<br>\n",
    ">>> binary(3)<br>\n",
    "11<br>\n",
    ">>> binary(9)<br>\n",
    "1001<br>"
   ]
  },
  {
   "cell_type": "code",
   "execution_count": 163,
   "id": "7b25d211",
   "metadata": {},
   "outputs": [],
   "source": [
    "#Reference link for print in a single line-https://stackoverflow.com/questions/5598181/multiple-prints-on-the-same-line-in-python\n",
    "def binary(n):\n",
    "    if n<0:\n",
    "        print(\"Please provide a positive integer.\")\n",
    "    elif n>0:\n",
    "        binary(int(n/2))\n",
    "        print(str(n%2),end='')\n",
    "    else: \n",
    "        return 0"
   ]
  },
  {
   "cell_type": "code",
   "execution_count": 159,
   "id": "8cb136e6",
   "metadata": {},
   "outputs": [
    {
     "data": {
      "text/plain": [
       "0"
      ]
     },
     "execution_count": 159,
     "metadata": {},
     "output_type": "execute_result"
    }
   ],
   "source": [
    "binary(0)"
   ]
  },
  {
   "cell_type": "code",
   "execution_count": 160,
   "id": "e7a9afd4",
   "metadata": {},
   "outputs": [
    {
     "name": "stdout",
     "output_type": "stream",
     "text": [
      "1\n"
     ]
    }
   ],
   "source": [
    "binary(1)"
   ]
  },
  {
   "cell_type": "code",
   "execution_count": 164,
   "id": "774e0c28",
   "metadata": {},
   "outputs": [
    {
     "name": "stdout",
     "output_type": "stream",
     "text": [
      "11"
     ]
    }
   ],
   "source": [
    "binary(3)"
   ]
  },
  {
   "cell_type": "code",
   "execution_count": 165,
   "id": "66b34f97",
   "metadata": {},
   "outputs": [
    {
     "name": "stdout",
     "output_type": "stream",
     "text": [
      "1001"
     ]
    }
   ],
   "source": [
    "binary(9)"
   ]
  },
  {
   "cell_type": "markdown",
   "id": "eed656b8",
   "metadata": {},
   "source": [
    "<h3>Question 6</h3>\n",
    "<p>Implement a class named HeadingParser that can be used to parse an HTML\n",
    "document, and retrieve and print all the headings in the document. You should\n",
    "implement your class as a subclass of HTMLParser, defined in Standard Library\n",
    "module html.parser. When fed a string containing HTML code, your class should\n",
    "print the headings, one per line and in the order in which they appear in the\n",
    "document. Each heading should be indented as follows: an h1 heading should have indentation 0, and h2 heading should have indentation 1, etc. Test your\n",
    "implementation using w3c.html.\n",
    "<br>\n",
    ">>> infile = open('w3c.html')<br>\n",
    ">>> content = infile.read()<br>\n",
    ">>> infile.close()<br>\n",
    ">>> hp = HeadingParser()<br>\n",
    ">>> hp.feed(content)<br>\n",
    "W3C Mission<br>\n",
    "Principles<br></p>"
   ]
  },
  {
   "cell_type": "code",
   "execution_count": 110,
   "id": "ccda1cf3",
   "metadata": {},
   "outputs": [],
   "source": [
    "from html.parser import HTMLParser\n",
    "\n",
    "class HeadingParser(HTMLParser):\n",
    "    \n",
    "    def __init__(self):\n",
    "        HTMLParser.__init__(self)\n",
    "        self.headingFound = False\n",
    "        \n",
    "    def handle_starttag(self, tag, attrs):\n",
    "        head = ['h1', 'h2', 'h3', 'h4', 'h5', 'h6']\n",
    "        if tag in head:\n",
    "            self.headingFound = True\n",
    "            self.indent = head.index(tag)\n",
    "        else:\n",
    "            self.headingFound = False\n",
    "            \n",
    "    def handle_data(self, data):\n",
    "        if self.headingFound == True:\n",
    "            print(' '*self.indent, data, end = '')\n"
   ]
  },
  {
   "cell_type": "code",
   "execution_count": 111,
   "id": "da1df65f",
   "metadata": {},
   "outputs": [
    {
     "name": "stdout",
     "output_type": "stream",
     "text": [
      " W3C Mission \n",
      "\t  Principles  \n",
      " \n",
      "\n",
      "\n",
      "  \n"
     ]
    }
   ],
   "source": [
    "infile = open('w3c.html')\n",
    "content = infile.read()\n",
    "infile.close()\n",
    "hp = HeadingParser()\n",
    "hp.feed(content)"
   ]
  },
  {
   "cell_type": "markdown",
   "id": "47f1ca02",
   "metadata": {},
   "source": [
    "<h3>Question 7</h3>\n",
    "<p>Implement recursive function webdir() that takes as input: a URL (as a string) and\n",
    "non-negative integers depth and indent. Your function should visit every web\n",
    "page reachable from the starting URL web page in depth clicks or less, and print\n",
    "each web page's URL. As shown below, indentation, specified by indent, should\n",
    "be used to indicate the depth of a URL.<br>\n",
    ">>>\n",
    "webdir('http://reed.cs.depaul.edu/lperkovic/csc242/test1.html'\n",
    ", 2, 0)<br>\n",
    "http://reed.cs.depaul.edu/lperkovic/csc242/test1.html<br>\n",
    " http://reed.cs.depaul.edu/lperkovic/csc242/test2.html<br>\n",
    " http://reed.cs.depaul.edu/lperkovic/csc242/test4.html<br>\n",
    " http://reed.cs.depaul.edu/lperkovic/csc242/test3.html<br>\n",
    " http://reed.cs.depaul.edu/lperkovic/csc242/test4.html<br>"
   ]
  },
  {
   "cell_type": "code",
   "execution_count": 103,
   "id": "933d4bfb",
   "metadata": {},
   "outputs": [
    {
     "data": {
      "text/plain": [
       "[]"
      ]
     },
     "execution_count": 103,
     "metadata": {},
     "output_type": "execute_result"
    }
   ],
   "source": [
    "#getdata = urlopen(\"'https://books.toscrape.com'\")\n",
    "#content = getdata.read().decode()\n",
    "#getURL = Findlinks(\"'https://books.toscrape.com'\")\n",
    "#urls=getURL.getLinks()\n",
    "#urls"
   ]
  },
  {
   "cell_type": "code",
   "execution_count": 122,
   "id": "acb33be8",
   "metadata": {},
   "outputs": [
    {
     "data": {
      "text/plain": [
       "[]"
      ]
     },
     "execution_count": 122,
     "metadata": {},
     "output_type": "execute_result"
    }
   ],
   "source": [
    "#getURL = Findlinks('https://books.toscrape.com')\n",
    "#getURL\n",
    "#getURL.feed(content)\n",
    "#urls = getURL.getLinks()\n",
    "#urls"
   ]
  },
  {
   "cell_type": "code",
   "execution_count": 115,
   "id": "a1a782a0",
   "metadata": {},
   "outputs": [],
   "source": [
    "#Reference- The complete reference Python by Martin C Brown (Textbook)\n",
    "from html.parser import HTMLParser\n",
    "from urllib.request import urlopen\n",
    "from urllib.parse import urljoin\n",
    "\n",
    "\n",
    "class Links(HTMLParser):\n",
    "\n",
    "    def __init__(self, url):\n",
    "        HTMLParser.__init__(self)\n",
    "        self.url = url\n",
    "        self.subLinks = []\n",
    "\n",
    "    def handle_starttag(self, tag, attrs):\n",
    "        if tag == 'a':\n",
    "            for attr in attrs:\n",
    "                if attr[0] == 'href':\n",
    "                    subURL = urljoin(self.url, attr[1])\n",
    "                    if subURL[:4] == 'http':\n",
    "                        self.subLinks.append(subURL)\n",
    "\n",
    "    def getLinks(self):\n",
    "        return self.subLinks\n",
    "    \n",
    "def webdir(URL, depth, indent):\n",
    "\n",
    "    try:\n",
    "        htmlData = urlopen(URL)\n",
    "        content = htmlData.read().decode()\n",
    "        getURL = Findlinks(URL)\n",
    "        getURL.feed(content)\n",
    "        urls = getURL.getLinks()\n",
    "        if indent == 0:\n",
    "            print(URL)\n",
    "        indent += 4\n",
    "        depth -= 1\n",
    "        print(' '*indent, URL, end = '\\n')\n",
    "        for url in urls:\n",
    "            if depth > 0:\n",
    "                webdir(url, depth, indent)\n",
    "    except ValueError:\n",
    "        print(\"Execption\", e)"
   ]
  },
  {
   "cell_type": "code",
   "execution_count": 119,
   "id": "092febfd",
   "metadata": {},
   "outputs": [
    {
     "name": "stdout",
     "output_type": "stream",
     "text": [
      "https://books.toscrape.com\n",
      "     https://books.toscrape.com\n",
      "         https://books.toscrape.com/index.html\n",
      "         https://books.toscrape.com/index.html\n",
      "         https://books.toscrape.com/catalogue/category/books_1/index.html\n",
      "         https://books.toscrape.com/catalogue/category/books/travel_2/index.html\n",
      "         https://books.toscrape.com/catalogue/category/books/mystery_3/index.html\n",
      "         https://books.toscrape.com/catalogue/category/books/historical-fiction_4/index.html\n",
      "         https://books.toscrape.com/catalogue/category/books/sequential-art_5/index.html\n",
      "         https://books.toscrape.com/catalogue/category/books/classics_6/index.html\n",
      "         https://books.toscrape.com/catalogue/category/books/philosophy_7/index.html\n",
      "         https://books.toscrape.com/catalogue/category/books/romance_8/index.html\n",
      "         https://books.toscrape.com/catalogue/category/books/womens-fiction_9/index.html\n",
      "         https://books.toscrape.com/catalogue/category/books/fiction_10/index.html\n",
      "         https://books.toscrape.com/catalogue/category/books/childrens_11/index.html\n",
      "         https://books.toscrape.com/catalogue/category/books/religion_12/index.html\n",
      "         https://books.toscrape.com/catalogue/category/books/nonfiction_13/index.html\n",
      "         https://books.toscrape.com/catalogue/category/books/music_14/index.html\n",
      "         https://books.toscrape.com/catalogue/category/books/default_15/index.html\n",
      "         https://books.toscrape.com/catalogue/category/books/science-fiction_16/index.html\n",
      "         https://books.toscrape.com/catalogue/category/books/sports-and-games_17/index.html\n",
      "         https://books.toscrape.com/catalogue/category/books/add-a-comment_18/index.html\n",
      "         https://books.toscrape.com/catalogue/category/books/fantasy_19/index.html\n",
      "         https://books.toscrape.com/catalogue/category/books/new-adult_20/index.html\n",
      "         https://books.toscrape.com/catalogue/category/books/young-adult_21/index.html\n",
      "         https://books.toscrape.com/catalogue/category/books/science_22/index.html\n",
      "         https://books.toscrape.com/catalogue/category/books/poetry_23/index.html\n",
      "         https://books.toscrape.com/catalogue/category/books/paranormal_24/index.html\n",
      "         https://books.toscrape.com/catalogue/category/books/art_25/index.html\n",
      "         https://books.toscrape.com/catalogue/category/books/psychology_26/index.html\n",
      "         https://books.toscrape.com/catalogue/category/books/autobiography_27/index.html\n",
      "         https://books.toscrape.com/catalogue/category/books/parenting_28/index.html\n",
      "         https://books.toscrape.com/catalogue/category/books/adult-fiction_29/index.html\n",
      "         https://books.toscrape.com/catalogue/category/books/humor_30/index.html\n",
      "         https://books.toscrape.com/catalogue/category/books/horror_31/index.html\n",
      "         https://books.toscrape.com/catalogue/category/books/history_32/index.html\n",
      "         https://books.toscrape.com/catalogue/category/books/food-and-drink_33/index.html\n",
      "         https://books.toscrape.com/catalogue/category/books/christian-fiction_34/index.html\n",
      "         https://books.toscrape.com/catalogue/category/books/business_35/index.html\n",
      "         https://books.toscrape.com/catalogue/category/books/biography_36/index.html\n",
      "         https://books.toscrape.com/catalogue/category/books/thriller_37/index.html\n",
      "         https://books.toscrape.com/catalogue/category/books/contemporary_38/index.html\n",
      "         https://books.toscrape.com/catalogue/category/books/spirituality_39/index.html\n",
      "         https://books.toscrape.com/catalogue/category/books/academic_40/index.html\n",
      "         https://books.toscrape.com/catalogue/category/books/self-help_41/index.html\n",
      "         https://books.toscrape.com/catalogue/category/books/historical_42/index.html\n",
      "         https://books.toscrape.com/catalogue/category/books/christian_43/index.html\n",
      "         https://books.toscrape.com/catalogue/category/books/suspense_44/index.html\n",
      "         https://books.toscrape.com/catalogue/category/books/short-stories_45/index.html\n",
      "         https://books.toscrape.com/catalogue/category/books/novels_46/index.html\n",
      "         https://books.toscrape.com/catalogue/category/books/health_47/index.html\n",
      "         https://books.toscrape.com/catalogue/category/books/politics_48/index.html\n",
      "         https://books.toscrape.com/catalogue/category/books/cultural_49/index.html\n",
      "         https://books.toscrape.com/catalogue/category/books/erotica_50/index.html\n",
      "         https://books.toscrape.com/catalogue/category/books/crime_51/index.html\n",
      "         https://books.toscrape.com/catalogue/a-light-in-the-attic_1000/index.html\n",
      "         https://books.toscrape.com/catalogue/a-light-in-the-attic_1000/index.html\n",
      "         https://books.toscrape.com/catalogue/tipping-the-velvet_999/index.html\n",
      "         https://books.toscrape.com/catalogue/tipping-the-velvet_999/index.html\n",
      "         https://books.toscrape.com/catalogue/soumission_998/index.html\n",
      "         https://books.toscrape.com/catalogue/soumission_998/index.html\n",
      "         https://books.toscrape.com/catalogue/sharp-objects_997/index.html\n",
      "         https://books.toscrape.com/catalogue/sharp-objects_997/index.html\n",
      "         https://books.toscrape.com/catalogue/sapiens-a-brief-history-of-humankind_996/index.html\n",
      "         https://books.toscrape.com/catalogue/sapiens-a-brief-history-of-humankind_996/index.html\n",
      "         https://books.toscrape.com/catalogue/the-requiem-red_995/index.html\n",
      "         https://books.toscrape.com/catalogue/the-requiem-red_995/index.html\n",
      "         https://books.toscrape.com/catalogue/the-dirty-little-secrets-of-getting-your-dream-job_994/index.html\n",
      "         https://books.toscrape.com/catalogue/the-dirty-little-secrets-of-getting-your-dream-job_994/index.html\n",
      "         https://books.toscrape.com/catalogue/the-coming-woman-a-novel-based-on-the-life-of-the-infamous-feminist-victoria-woodhull_993/index.html\n",
      "         https://books.toscrape.com/catalogue/the-coming-woman-a-novel-based-on-the-life-of-the-infamous-feminist-victoria-woodhull_993/index.html\n",
      "         https://books.toscrape.com/catalogue/the-boys-in-the-boat-nine-americans-and-their-epic-quest-for-gold-at-the-1936-berlin-olympics_992/index.html\n",
      "         https://books.toscrape.com/catalogue/the-boys-in-the-boat-nine-americans-and-their-epic-quest-for-gold-at-the-1936-berlin-olympics_992/index.html\n",
      "         https://books.toscrape.com/catalogue/the-black-maria_991/index.html\n",
      "         https://books.toscrape.com/catalogue/the-black-maria_991/index.html\n",
      "         https://books.toscrape.com/catalogue/starving-hearts-triangular-trade-trilogy-1_990/index.html\n",
      "         https://books.toscrape.com/catalogue/starving-hearts-triangular-trade-trilogy-1_990/index.html\n",
      "         https://books.toscrape.com/catalogue/shakespeares-sonnets_989/index.html\n",
      "         https://books.toscrape.com/catalogue/shakespeares-sonnets_989/index.html\n",
      "         https://books.toscrape.com/catalogue/set-me-free_988/index.html\n",
      "         https://books.toscrape.com/catalogue/set-me-free_988/index.html\n",
      "         https://books.toscrape.com/catalogue/scott-pilgrims-precious-little-life-scott-pilgrim-1_987/index.html\n",
      "         https://books.toscrape.com/catalogue/scott-pilgrims-precious-little-life-scott-pilgrim-1_987/index.html\n",
      "         https://books.toscrape.com/catalogue/rip-it-up-and-start-again_986/index.html\n",
      "         https://books.toscrape.com/catalogue/rip-it-up-and-start-again_986/index.html\n",
      "         https://books.toscrape.com/catalogue/our-band-could-be-your-life-scenes-from-the-american-indie-underground-1981-1991_985/index.html\n",
      "         https://books.toscrape.com/catalogue/our-band-could-be-your-life-scenes-from-the-american-indie-underground-1981-1991_985/index.html\n",
      "         https://books.toscrape.com/catalogue/olio_984/index.html\n",
      "         https://books.toscrape.com/catalogue/olio_984/index.html\n",
      "         https://books.toscrape.com/catalogue/mesaerion-the-best-science-fiction-stories-1800-1849_983/index.html\n",
      "         https://books.toscrape.com/catalogue/mesaerion-the-best-science-fiction-stories-1800-1849_983/index.html\n",
      "         https://books.toscrape.com/catalogue/libertarianism-for-beginners_982/index.html\n",
      "         https://books.toscrape.com/catalogue/libertarianism-for-beginners_982/index.html\n",
      "         https://books.toscrape.com/catalogue/its-only-the-himalayas_981/index.html\n"
     ]
    },
    {
     "name": "stdout",
     "output_type": "stream",
     "text": [
      "         https://books.toscrape.com/catalogue/its-only-the-himalayas_981/index.html\n",
      "         https://books.toscrape.com/catalogue/page-2.html\n"
     ]
    }
   ],
   "source": [
    "#Link provided in example is not working, used a common webscrapping link\n",
    "webdir('https://books.toscrape.com',2,0)"
   ]
  },
  {
   "cell_type": "markdown",
   "id": "1f296b70",
   "metadata": {},
   "source": [
    "<h3>Question 8</h3>\n",
    "<p>Write SQL queries on the below database table that return:<br>\n",
    "g) The total annual rainfall for Cairo.<br>\n",
    "h) The total rainfall for each season</p>\n",
    "\n",
    "|City  | Country       | Season | Temperature (C) | Rainfall (mm) |\n",
    "|----- |---------------|--------|-----------------|---------------|\n",
    "|Mumbai|India          |Winter  |24.8             |5.9            |          \n",
    "|Mumbai|India          |Spring  |28.4             |16.2           |\n",
    "|Mumbai|India          |Summer  |27.9             |1549.4         |\n",
    "|Mumbai|India          |Fall    |27.6             |346.0          |\n",
    "|London|United Kingdom |Winter  |4.2              |207.7          |\n",
    "|London|United Kingdom |Spring  |8.3              |169.6          |\n",
    "|London|United Kingdom |Summer  |15.7             |157.0          |\n",
    "|London|United Kingdom | Fall   |10.4             |218.5          |\n",
    "|Cairo |Egypt          |Winter  |13.6             |16.5           |\n",
    "|Cairo |Egypt          |Spring  |20.7             |6.5            |\n",
    "|Cairo |Egypt          |Summer  |27.7             |0.1            |\n",
    "|Cairo |Egypt          |Fall    |22.2             |4.5            |"
   ]
  },
  {
   "cell_type": "code",
   "execution_count": 71,
   "id": "179e69ba",
   "metadata": {},
   "outputs": [],
   "source": [
    "%reload_ext sql"
   ]
  },
  {
   "cell_type": "code",
   "execution_count": 72,
   "id": "72d9b790",
   "metadata": {},
   "outputs": [],
   "source": [
    "%sql sqlite://"
   ]
  },
  {
   "cell_type": "code",
   "execution_count": 73,
   "id": "ba2118a1",
   "metadata": {},
   "outputs": [
    {
     "name": "stdout",
     "output_type": "stream",
     "text": [
      " * sqlite://\n",
      "(sqlite3.OperationalError) table table1 already exists\n",
      "[SQL: CREATE TABLE table1(City varchar(255), Country varchar(255), Season varchar(255), Temperature(C) float, Rainfall(mm) float);]\n",
      "(Background on this error at: http://sqlalche.me/e/14/e3q8)\n"
     ]
    }
   ],
   "source": [
    "#SQL query - https://www.w3schools.com/sql/sql_create_db.asp\n",
    "%%sql\n",
    "CREATE TABLE table1(City varchar(255), Country varchar(255), Season varchar(255), Temperature float, Rainfall float);\n",
    "INSERT INTO table1 VALUES('Mumbai', 'India', 'Winter', '24.8', '5.9');\n",
    "INSERT INTO table1 VALUES('Mumbai', 'India', 'Spring', '28.4', '16.2');\n",
    "INSERT INTO table1 VALUES('Mumbai', 'India', 'Summer', '27.9', '1549.4');\n",
    "INSERT INTO table1 VALUES('Mumbai', 'India', 'Fall', '27.6', '346.0');\n",
    "INSERT INTO table1 VALUES('London', 'United Kingdon', 'Winter', '4.2', '207.7');\n",
    "INSERT INTO table1 VALUES('London', 'United Kingdon', 'Spring', '8.3', '169.6');\n",
    "INSERT INTO table1 VALUES('London', 'United Kingdon', 'Summer', '15.7', '157.0');\n",
    "INSERT INTO table1 VALUES('London', 'United Kingdon', 'Fall', '10.4', '218.5');\n",
    "INSERT INTO table1 VALUES('Cairo', 'Egypt', 'Winter', '13.6', '16.5');\n",
    "INSERT INTO table1 VALUES('Cairo', 'Egypt', 'Spring', '20.7', '6.5');\n",
    "INSERT INTO table1 VALUES('Cairo', 'Egypt', 'Summer', '27.7', '0.1');\n",
    "INSERT INTO table1 VALUES('Cairo', 'Egypt', 'Fall', '22.2', '4.5');"
   ]
  },
  {
   "cell_type": "code",
   "execution_count": 64,
   "id": "63e55276",
   "metadata": {},
   "outputs": [
    {
     "name": "stdout",
     "output_type": "stream",
     "text": [
      " * sqlite://\n",
      "Done.\n"
     ]
    },
    {
     "data": {
      "text/html": [
       "<table>\n",
       "    <tr>\n",
       "        <th>City</th>\n",
       "        <th>Country</th>\n",
       "        <th>Season</th>\n",
       "        <th>Temperature</th>\n",
       "        <th>Rainfall</th>\n",
       "    </tr>\n",
       "    <tr>\n",
       "        <td>Mumbai</td>\n",
       "        <td>India</td>\n",
       "        <td>Winter</td>\n",
       "        <td>24.8</td>\n",
       "        <td>5.9</td>\n",
       "    </tr>\n",
       "    <tr>\n",
       "        <td>Mumbai</td>\n",
       "        <td>India</td>\n",
       "        <td>Spring</td>\n",
       "        <td>28.4</td>\n",
       "        <td>16.2</td>\n",
       "    </tr>\n",
       "    <tr>\n",
       "        <td>Mumbai</td>\n",
       "        <td>India</td>\n",
       "        <td>Summer</td>\n",
       "        <td>27.9</td>\n",
       "        <td>1549.4</td>\n",
       "    </tr>\n",
       "    <tr>\n",
       "        <td>Mumbai</td>\n",
       "        <td>India</td>\n",
       "        <td>Fall</td>\n",
       "        <td>27.6</td>\n",
       "        <td>346.0</td>\n",
       "    </tr>\n",
       "    <tr>\n",
       "        <td>London</td>\n",
       "        <td>United Kingdon</td>\n",
       "        <td>Winter</td>\n",
       "        <td>4.2</td>\n",
       "        <td>207.7</td>\n",
       "    </tr>\n",
       "    <tr>\n",
       "        <td>London</td>\n",
       "        <td>United Kingdon</td>\n",
       "        <td>Spring</td>\n",
       "        <td>8.3</td>\n",
       "        <td>169.6</td>\n",
       "    </tr>\n",
       "    <tr>\n",
       "        <td>London</td>\n",
       "        <td>United Kingdon</td>\n",
       "        <td>Summer</td>\n",
       "        <td>15.7</td>\n",
       "        <td>157.0</td>\n",
       "    </tr>\n",
       "    <tr>\n",
       "        <td>London</td>\n",
       "        <td>United Kingdon</td>\n",
       "        <td>Fall</td>\n",
       "        <td>10.4</td>\n",
       "        <td>218.5</td>\n",
       "    </tr>\n",
       "    <tr>\n",
       "        <td>Cairo</td>\n",
       "        <td>Egypt</td>\n",
       "        <td>Winter</td>\n",
       "        <td>13.6</td>\n",
       "        <td>16.5</td>\n",
       "    </tr>\n",
       "    <tr>\n",
       "        <td>Cairo</td>\n",
       "        <td>Egypt</td>\n",
       "        <td>Spring</td>\n",
       "        <td>20.7</td>\n",
       "        <td>6.5</td>\n",
       "    </tr>\n",
       "    <tr>\n",
       "        <td>Cairo</td>\n",
       "        <td>Egypt</td>\n",
       "        <td>Summer</td>\n",
       "        <td>27.7</td>\n",
       "        <td>0.1</td>\n",
       "    </tr>\n",
       "    <tr>\n",
       "        <td>Cairo</td>\n",
       "        <td>Egypt</td>\n",
       "        <td>Fall</td>\n",
       "        <td>22.2</td>\n",
       "        <td>4.5</td>\n",
       "    </tr>\n",
       "</table>"
      ],
      "text/plain": [
       "[('Mumbai', 'India', 'Winter', 24.8, 5.9),\n",
       " ('Mumbai', 'India', 'Spring', 28.4, 16.2),\n",
       " ('Mumbai', 'India', 'Summer', 27.9, 1549.4),\n",
       " ('Mumbai', 'India', 'Fall', 27.6, 346.0),\n",
       " ('London', 'United Kingdon', 'Winter', 4.2, 207.7),\n",
       " ('London', 'United Kingdon', 'Spring', 8.3, 169.6),\n",
       " ('London', 'United Kingdon', 'Summer', 15.7, 157.0),\n",
       " ('London', 'United Kingdon', 'Fall', 10.4, 218.5),\n",
       " ('Cairo', 'Egypt', 'Winter', 13.6, 16.5),\n",
       " ('Cairo', 'Egypt', 'Spring', 20.7, 6.5),\n",
       " ('Cairo', 'Egypt', 'Summer', 27.7, 0.1),\n",
       " ('Cairo', 'Egypt', 'Fall', 22.2, 4.5)]"
      ]
     },
     "execution_count": 64,
     "metadata": {},
     "output_type": "execute_result"
    }
   ],
   "source": [
    "%sql SELECT * FROM table1; # Displaying table"
   ]
  },
  {
   "cell_type": "markdown",
   "id": "77fe42cc",
   "metadata": {},
   "source": [
    "<p><br><br>a) All the temperature data.<br></p>"
   ]
  },
  {
   "cell_type": "code",
   "execution_count": 74,
   "id": "20d3cb97",
   "metadata": {},
   "outputs": [
    {
     "name": "stdout",
     "output_type": "stream",
     "text": [
      " * sqlite://\n",
      "Done.\n"
     ]
    },
    {
     "data": {
      "text/html": [
       "<table>\n",
       "    <tr>\n",
       "        <th>Temperature</th>\n",
       "    </tr>\n",
       "    <tr>\n",
       "        <td>24.8</td>\n",
       "    </tr>\n",
       "    <tr>\n",
       "        <td>28.4</td>\n",
       "    </tr>\n",
       "    <tr>\n",
       "        <td>27.9</td>\n",
       "    </tr>\n",
       "    <tr>\n",
       "        <td>27.6</td>\n",
       "    </tr>\n",
       "    <tr>\n",
       "        <td>4.2</td>\n",
       "    </tr>\n",
       "    <tr>\n",
       "        <td>8.3</td>\n",
       "    </tr>\n",
       "    <tr>\n",
       "        <td>15.7</td>\n",
       "    </tr>\n",
       "    <tr>\n",
       "        <td>10.4</td>\n",
       "    </tr>\n",
       "    <tr>\n",
       "        <td>13.6</td>\n",
       "    </tr>\n",
       "    <tr>\n",
       "        <td>20.7</td>\n",
       "    </tr>\n",
       "    <tr>\n",
       "        <td>27.7</td>\n",
       "    </tr>\n",
       "    <tr>\n",
       "        <td>22.2</td>\n",
       "    </tr>\n",
       "</table>"
      ],
      "text/plain": [
       "[(24.8,),\n",
       " (28.4,),\n",
       " (27.9,),\n",
       " (27.6,),\n",
       " (4.2,),\n",
       " (8.3,),\n",
       " (15.7,),\n",
       " (10.4,),\n",
       " (13.6,),\n",
       " (20.7,),\n",
       " (27.7,),\n",
       " (22.2,)]"
      ]
     },
     "execution_count": 74,
     "metadata": {},
     "output_type": "execute_result"
    }
   ],
   "source": [
    "%sql SELECT Temperature FROM table1;"
   ]
  },
  {
   "cell_type": "markdown",
   "id": "e690422e",
   "metadata": {},
   "source": [
    "<p><br>b) All the cities, but without repetition.</p>"
   ]
  },
  {
   "cell_type": "code",
   "execution_count": 75,
   "id": "409142cf",
   "metadata": {},
   "outputs": [
    {
     "name": "stdout",
     "output_type": "stream",
     "text": [
      " * sqlite://\n",
      "Done.\n"
     ]
    },
    {
     "data": {
      "text/html": [
       "<table>\n",
       "    <tr>\n",
       "        <th>City</th>\n",
       "    </tr>\n",
       "    <tr>\n",
       "        <td>Mumbai</td>\n",
       "    </tr>\n",
       "    <tr>\n",
       "        <td>London</td>\n",
       "    </tr>\n",
       "    <tr>\n",
       "        <td>Cairo</td>\n",
       "    </tr>\n",
       "</table>"
      ],
      "text/plain": [
       "[('Mumbai',), ('London',), ('Cairo',)]"
      ]
     },
     "execution_count": 75,
     "metadata": {},
     "output_type": "execute_result"
    }
   ],
   "source": [
    "%sql SELECT DISTINCT City FROM table1;"
   ]
  },
  {
   "cell_type": "markdown",
   "id": "36b04f7f",
   "metadata": {},
   "source": [
    "<p><br><br>c) All the records for India.<br>"
   ]
  },
  {
   "cell_type": "code",
   "execution_count": 77,
   "id": "75109dd3",
   "metadata": {},
   "outputs": [
    {
     "name": "stdout",
     "output_type": "stream",
     "text": [
      " * sqlite://\n",
      "Done.\n"
     ]
    },
    {
     "data": {
      "text/html": [
       "<table>\n",
       "    <tr>\n",
       "        <th>City</th>\n",
       "        <th>Country</th>\n",
       "        <th>Season</th>\n",
       "        <th>Temperature</th>\n",
       "        <th>Rainfall</th>\n",
       "    </tr>\n",
       "    <tr>\n",
       "        <td>Mumbai</td>\n",
       "        <td>India</td>\n",
       "        <td>Winter</td>\n",
       "        <td>24.8</td>\n",
       "        <td>5.9</td>\n",
       "    </tr>\n",
       "    <tr>\n",
       "        <td>Mumbai</td>\n",
       "        <td>India</td>\n",
       "        <td>Spring</td>\n",
       "        <td>28.4</td>\n",
       "        <td>16.2</td>\n",
       "    </tr>\n",
       "    <tr>\n",
       "        <td>Mumbai</td>\n",
       "        <td>India</td>\n",
       "        <td>Summer</td>\n",
       "        <td>27.9</td>\n",
       "        <td>1549.4</td>\n",
       "    </tr>\n",
       "    <tr>\n",
       "        <td>Mumbai</td>\n",
       "        <td>India</td>\n",
       "        <td>Fall</td>\n",
       "        <td>27.6</td>\n",
       "        <td>346.0</td>\n",
       "    </tr>\n",
       "</table>"
      ],
      "text/plain": [
       "[('Mumbai', 'India', 'Winter', 24.8, 5.9),\n",
       " ('Mumbai', 'India', 'Spring', 28.4, 16.2),\n",
       " ('Mumbai', 'India', 'Summer', 27.9, 1549.4),\n",
       " ('Mumbai', 'India', 'Fall', 27.6, 346.0)]"
      ]
     },
     "execution_count": 77,
     "metadata": {},
     "output_type": "execute_result"
    }
   ],
   "source": [
    "%sql SELECT * FROM table1 WHERE Country = 'India';"
   ]
  },
  {
   "cell_type": "markdown",
   "id": "a473723a",
   "metadata": {},
   "source": [
    "<p><br><br>d) All the Fall records.<br></p>"
   ]
  },
  {
   "cell_type": "code",
   "execution_count": 79,
   "id": "4ca75e9b",
   "metadata": {},
   "outputs": [
    {
     "name": "stdout",
     "output_type": "stream",
     "text": [
      " * sqlite://\n",
      "Done.\n"
     ]
    },
    {
     "data": {
      "text/html": [
       "<table>\n",
       "    <tr>\n",
       "        <th>City</th>\n",
       "        <th>Country</th>\n",
       "        <th>Season</th>\n",
       "        <th>Temperature</th>\n",
       "        <th>Rainfall</th>\n",
       "    </tr>\n",
       "    <tr>\n",
       "        <td>Mumbai</td>\n",
       "        <td>India</td>\n",
       "        <td>Fall</td>\n",
       "        <td>27.6</td>\n",
       "        <td>346.0</td>\n",
       "    </tr>\n",
       "    <tr>\n",
       "        <td>London</td>\n",
       "        <td>United Kingdon</td>\n",
       "        <td>Fall</td>\n",
       "        <td>10.4</td>\n",
       "        <td>218.5</td>\n",
       "    </tr>\n",
       "    <tr>\n",
       "        <td>Cairo</td>\n",
       "        <td>Egypt</td>\n",
       "        <td>Fall</td>\n",
       "        <td>22.2</td>\n",
       "        <td>4.5</td>\n",
       "    </tr>\n",
       "</table>"
      ],
      "text/plain": [
       "[('Mumbai', 'India', 'Fall', 27.6, 346.0),\n",
       " ('London', 'United Kingdon', 'Fall', 10.4, 218.5),\n",
       " ('Cairo', 'Egypt', 'Fall', 22.2, 4.5)]"
      ]
     },
     "execution_count": 79,
     "metadata": {},
     "output_type": "execute_result"
    }
   ],
   "source": [
    "%sql SELECT * FROM table1 WHERE Season = 'Fall';"
   ]
  },
  {
   "cell_type": "markdown",
   "id": "c6d7425d",
   "metadata": {},
   "source": [
    "<p><br><br>e) The city, country, and season for which the average rainfall is between 200\n",
    "and 400 millimeters<br></p>"
   ]
  },
  {
   "cell_type": "code",
   "execution_count": 80,
   "id": "4bde5f93",
   "metadata": {},
   "outputs": [
    {
     "name": "stdout",
     "output_type": "stream",
     "text": [
      " * sqlite://\n",
      "Done.\n"
     ]
    },
    {
     "data": {
      "text/html": [
       "<table>\n",
       "    <tr>\n",
       "        <th>City</th>\n",
       "        <th>Country</th>\n",
       "        <th>Season</th>\n",
       "    </tr>\n",
       "    <tr>\n",
       "        <td>Mumbai</td>\n",
       "        <td>India</td>\n",
       "        <td>Fall</td>\n",
       "    </tr>\n",
       "    <tr>\n",
       "        <td>London</td>\n",
       "        <td>United Kingdon</td>\n",
       "        <td>Winter</td>\n",
       "    </tr>\n",
       "    <tr>\n",
       "        <td>London</td>\n",
       "        <td>United Kingdon</td>\n",
       "        <td>Fall</td>\n",
       "    </tr>\n",
       "</table>"
      ],
      "text/plain": [
       "[('Mumbai', 'India', 'Fall'),\n",
       " ('London', 'United Kingdon', 'Winter'),\n",
       " ('London', 'United Kingdon', 'Fall')]"
      ]
     },
     "execution_count": 80,
     "metadata": {},
     "output_type": "execute_result"
    }
   ],
   "source": [
    "%sql SELECT City, Country, Season FROM table1 WHERE Rainfall BETWEEN 200 And 400;"
   ]
  },
  {
   "cell_type": "markdown",
   "id": "af41f8d1",
   "metadata": {},
   "source": [
    "<p><br><br>f) The city and country for which the average Fall temperature is above 20\n",
    "degrees, in increasing temperature order.<br><br></p>"
   ]
  },
  {
   "cell_type": "code",
   "execution_count": 81,
   "id": "cbb444d9",
   "metadata": {},
   "outputs": [
    {
     "name": "stdout",
     "output_type": "stream",
     "text": [
      " * sqlite://\n",
      "Done.\n"
     ]
    },
    {
     "data": {
      "text/html": [
       "<table>\n",
       "    <tr>\n",
       "        <th>City</th>\n",
       "        <th>Country</th>\n",
       "    </tr>\n",
       "    <tr>\n",
       "        <td>Cairo</td>\n",
       "        <td>Egypt</td>\n",
       "    </tr>\n",
       "    <tr>\n",
       "        <td>Mumbai</td>\n",
       "        <td>India</td>\n",
       "    </tr>\n",
       "</table>"
      ],
      "text/plain": [
       "[('Cairo', 'Egypt'), ('Mumbai', 'India')]"
      ]
     },
     "execution_count": 81,
     "metadata": {},
     "output_type": "execute_result"
    }
   ],
   "source": [
    "%sql SELECT City, Country FROM table1 WHERE Season = 'Fall' AND Temperature >20 ORDER BY Temperature ASC;"
   ]
  },
  {
   "cell_type": "markdown",
   "id": "74102d90",
   "metadata": {},
   "source": [
    "<p><br><br>g) The total annual rainfall for Cairo.<br></p>"
   ]
  },
  {
   "cell_type": "code",
   "execution_count": 82,
   "id": "c9c55d83",
   "metadata": {},
   "outputs": [
    {
     "name": "stdout",
     "output_type": "stream",
     "text": [
      " * sqlite://\n",
      "Done.\n"
     ]
    },
    {
     "data": {
      "text/html": [
       "<table>\n",
       "    <tr>\n",
       "        <th>Sum(Rainfall)</th>\n",
       "    </tr>\n",
       "    <tr>\n",
       "        <td>27.6</td>\n",
       "    </tr>\n",
       "</table>"
      ],
      "text/plain": [
       "[(27.6,)]"
      ]
     },
     "execution_count": 82,
     "metadata": {},
     "output_type": "execute_result"
    }
   ],
   "source": [
    "%sql SELECT Sum(Rainfall) FROM table1 WHERE City='Cairo';"
   ]
  },
  {
   "cell_type": "markdown",
   "id": "5b8c4c38",
   "metadata": {},
   "source": [
    "<p><br><br>h) The total rainfall for each season.<br></p>"
   ]
  },
  {
   "cell_type": "code",
   "execution_count": 83,
   "id": "24a86072",
   "metadata": {},
   "outputs": [
    {
     "name": "stdout",
     "output_type": "stream",
     "text": [
      " * sqlite://\n",
      "Done.\n"
     ]
    },
    {
     "data": {
      "text/html": [
       "<table>\n",
       "    <tr>\n",
       "        <th>Season</th>\n",
       "        <th>Sum(Rainfall)</th>\n",
       "    </tr>\n",
       "    <tr>\n",
       "        <td>Fall</td>\n",
       "        <td>569.0</td>\n",
       "    </tr>\n",
       "    <tr>\n",
       "        <td>Spring</td>\n",
       "        <td>192.29999999999998</td>\n",
       "    </tr>\n",
       "    <tr>\n",
       "        <td>Summer</td>\n",
       "        <td>1706.5</td>\n",
       "    </tr>\n",
       "    <tr>\n",
       "        <td>Winter</td>\n",
       "        <td>230.1</td>\n",
       "    </tr>\n",
       "</table>"
      ],
      "text/plain": [
       "[('Fall', 569.0),\n",
       " ('Spring', 192.29999999999998),\n",
       " ('Summer', 1706.5),\n",
       " ('Winter', 230.1)]"
      ]
     },
     "execution_count": 83,
     "metadata": {},
     "output_type": "execute_result"
    }
   ],
   "source": [
    "%sql SELECT Season, Sum(Rainfall) FROM record GROUP BY Season;"
   ]
  },
  {
   "cell_type": "markdown",
   "id": "42167ecd",
   "metadata": {},
   "source": [
    "<h3>Question 9</h3>\n",
    "    \n",
    "<p> Suppose list words is defined as follows:<br><br>\n",
    ">>> words = ['The', 'quick', 'brown', 'fox', 'jumps', 'over',\n",
    "'the', 'lazy', 'dog']<br><br>\n",
    "Write list comprehension expressions that use list words and generate the following\n",
    "lists:<br></p>"
   ]
  },
  {
   "cell_type": "code",
   "execution_count": 30,
   "id": "fbd26cee",
   "metadata": {},
   "outputs": [],
   "source": [
    "words = ['The', 'quick', 'brown', 'fox', 'jumps', 'over', 'the', 'lazy', 'dog']"
   ]
  },
  {
   "cell_type": "markdown",
   "id": "b19518d9",
   "metadata": {},
   "source": [
    "<p><br>a) ['THE', 'QUICK', 'BROWN', 'FOX', 'JUMPS', 'OVER', 'THE',\n",
    "'LAZY', 'DOG']<br></p>"
   ]
  },
  {
   "cell_type": "code",
   "execution_count": 32,
   "id": "854b0770",
   "metadata": {},
   "outputs": [
    {
     "data": {
      "text/plain": [
       "['THE', 'QUICK', 'BROWN', 'FOX', 'JUMPS', 'OVER', 'THE', 'LAZY', 'DOG']"
      ]
     },
     "execution_count": 32,
     "metadata": {},
     "output_type": "execute_result"
    }
   ],
   "source": [
    "#Upper case letters - https://www.programiz.com/python-programming/methods/string/upper\n",
    "upper_case=[word.upper() for word in words]\n",
    "upper_case"
   ]
  },
  {
   "cell_type": "markdown",
   "id": "f6eb8423",
   "metadata": {},
   "source": [
    "<p><br>b) ['the', 'quick', 'brown', 'fox', 'jumps', 'over', 'the',\n",
    "'lazy', 'dog']<br></p>"
   ]
  },
  {
   "cell_type": "code",
   "execution_count": 33,
   "id": "a6ccae21",
   "metadata": {},
   "outputs": [
    {
     "data": {
      "text/plain": [
       "['the', 'quick', 'brown', 'fox', 'jumps', 'over', 'the', 'lazy', 'dog']"
      ]
     },
     "execution_count": 33,
     "metadata": {},
     "output_type": "execute_result"
    }
   ],
   "source": [
    "#Lower case letters - https://www.programiz.com/python-programming/methods/string/lower\n",
    "lower_case=[word.lower() for word in words]\n",
    "lower_case"
   ]
  },
  {
   "cell_type": "markdown",
   "id": "4f7785a8",
   "metadata": {},
   "source": [
    "<p><br>c) [3, 5, 5, 3, 5, 4, 3, 4, 3] (the list of lengths of words in list\n",
    "words).<br></p>"
   ]
  },
  {
   "cell_type": "code",
   "execution_count": 36,
   "id": "95e4a837",
   "metadata": {},
   "outputs": [
    {
     "data": {
      "text/plain": [
       "[3, 5, 5, 3, 5, 4, 3, 4, 3]"
      ]
     },
     "execution_count": 36,
     "metadata": {},
     "output_type": "execute_result"
    }
   ],
   "source": [
    "Length=[len(word) for word in words]\n",
    "Length"
   ]
  },
  {
   "cell_type": "markdown",
   "id": "b6af9200",
   "metadata": {},
   "source": [
    "<p><br>d) [['THE', 'the', 3], ['QUICK', 'quick', 5], ['BROWN',\n",
    "'brown', 5], ['FOX', 'fox', 3], ['JUMPS', 'jumps', 5],\n",
    "['OVER', 'over', 4], ['THE', 'the', 3], ['LAZY', 'lazy',\n",
    "4], ['DOG', 'dog', 3]] (the list containing a list for every word of list\n",
    "words, where each list contains the word in uppercase and lowercase and the\n",
    "length of the word.)</p>"
   ]
  },
  {
   "cell_type": "code",
   "execution_count": 45,
   "id": "8f35753b",
   "metadata": {},
   "outputs": [
    {
     "name": "stdout",
     "output_type": "stream",
     "text": [
      "[['THE', 'the', 3], ['QUICK', 'quick', 5], ['BROWN', 'brown', 5], ['FOX', 'fox', 3], ['JUMPS', 'jumps', 5], ['OVER', 'over', 4], ['THE', 'the', 3], ['LAZY', 'lazy', 4], ['DOG', 'dog', 3]]\n"
     ]
    }
   ],
   "source": [
    "Combined=[[word.upper(),word.lower(),len(word)] for word in words]\n",
    "print(Combined)"
   ]
  },
  {
   "cell_type": "markdown",
   "id": "1acbd338",
   "metadata": {},
   "source": [
    "<p>e) ['The', 'quick', 'brown', 'fox', 'jumps', 'over', 'the',\n",
    "'lazy', 'dog'] (the list of words in list words containing 4 or more\n",
    "characters.)</p>"
   ]
  },
  {
   "cell_type": "code",
   "execution_count": 42,
   "id": "68aa9f3a",
   "metadata": {},
   "outputs": [
    {
     "data": {
      "text/plain": [
       "['quick', 'brown', 'jumps', 'over', 'lazy']"
      ]
     },
     "execution_count": 42,
     "metadata": {},
     "output_type": "execute_result"
    }
   ],
   "source": [
    "Filtered_Words=[word for word in words if len(word)>=4]\n",
    "Filtered_Words"
   ]
  }
 ],
 "metadata": {
  "kernelspec": {
   "display_name": "Python 3",
   "language": "python",
   "name": "python3"
  },
  "language_info": {
   "codemirror_mode": {
    "name": "ipython",
    "version": 3
   },
   "file_extension": ".py",
   "mimetype": "text/x-python",
   "name": "python",
   "nbconvert_exporter": "python",
   "pygments_lexer": "ipython3",
   "version": "3.8.8"
  }
 },
 "nbformat": 4,
 "nbformat_minor": 5
}
